{
 "cells": [
  {
   "cell_type": "code",
   "execution_count": null,
   "id": "eba347d5",
   "metadata": {
    "vscode": {
     "languageId": "plaintext"
    }
   },
   "outputs": [],
   "source": [
    "from src.chatbot import ChatBot\n",
    "from src.db import VectorDB\n",
    "\n"
   ]
  }
 ],
 "metadata": {
  "language_info": {
   "name": "python"
  }
 },
 "nbformat": 4,
 "nbformat_minor": 5
}
